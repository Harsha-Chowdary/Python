{
 "cells": [
  {
   "cell_type": "markdown",
   "id": "730d8296",
   "metadata": {},
   "source": [
    "#### 11 - 01 - 2023"
   ]
  },
  {
   "cell_type": "markdown",
   "id": "8aec12af",
   "metadata": {},
   "source": [
    "# Task : #1 Create a child class Bus that will inherit all of the variables and                            methods of the Vehicle class"
   ]
  },
  {
   "cell_type": "markdown",
   "id": "bf876cf4",
   "metadata": {},
   "source": [
    "##### Parent class"
   ]
  },
  {
   "cell_type": "code",
   "execution_count": 15,
   "id": "2156f76a",
   "metadata": {},
   "outputs": [],
   "source": [
    "class Vehical():\n",
    "    \n",
    "    # Constructor\n",
    "    def __init__(self,Brand,color,ride):\n",
    "        \n",
    "        self.Brand = Brand\n",
    "        self.color = color\n",
    "        self.ride = ride\n",
    "    # A function for returning values (for lateral uses also)    \n",
    "    def Features(self):\n",
    "        \n",
    "        return (self.Brand , self.color , self.ride)"
   ]
  },
  {
   "cell_type": "markdown",
   "id": "a58c48f1",
   "metadata": {},
   "source": [
    "##### Child class"
   ]
  },
  {
   "cell_type": "code",
   "execution_count": 16,
   "id": "90852285",
   "metadata": {},
   "outputs": [],
   "source": [
    "# Child class inhiritating the proprties of the parent class(Vehicals)\n",
    "class Bus(Vehical):\n",
    "    \n",
    "    # Constructor\n",
    "    def __init__(self,Brand,color,ride,route):\n",
    "        \n",
    "        # Calling the attributes of the parent(Vehical) \n",
    "        Vehical.__init__(self,Brand,color,ride)\n",
    "        \n",
    "        self.route = route\n",
    "        \n",
    "    # Creating a function for the attributes in the child class (by using this we can call them later also)    \n",
    "    def Travaling_route(self):\n",
    "        \n",
    "        return self.route"
   ]
  },
  {
   "cell_type": "markdown",
   "id": "7965cccd",
   "metadata": {},
   "source": [
    "#### Creating an Object"
   ]
  },
  {
   "cell_type": "code",
   "execution_count": 17,
   "id": "a3f5fa9e",
   "metadata": {},
   "outputs": [
    {
     "name": "stdout",
     "output_type": "stream",
     "text": [
      "('volvo', 'Black', 'speed and smooth') Vijayawada to Vizag\n"
     ]
    }
   ],
   "source": [
    "s = Bus(\"volvo\",\"Black\",\"speed and smooth\",\"Vijayawada to Vizag\")\n",
    "\n",
    "print(s.Features(),s.Travaling_route())"
   ]
  },
  {
   "cell_type": "markdown",
   "id": "2d30b46d",
   "metadata": {},
   "source": [
    "# Task : #2 Define a class attribute”color” with a default value white. I.e., Every Vehicle should be white."
   ]
  },
  {
   "cell_type": "markdown",
   "id": "9b5048f5",
   "metadata": {},
   "source": [
    "#### Creating a class"
   ]
  },
  {
   "cell_type": "code",
   "execution_count": 18,
   "id": "5f5f8376",
   "metadata": {},
   "outputs": [],
   "source": [
    "class Vehical():\n",
    "    # Default attribute for overall the class\n",
    "    color = 'White'\n",
    "    # Constructor\n",
    "    def __init__(self,Brand,Wheels):\n",
    "        \n",
    "        self.Brand = Brand\n",
    "        self.Wheels = Wheels\n",
    "            "
   ]
  },
  {
   "cell_type": "markdown",
   "id": "8f3011d8",
   "metadata": {},
   "source": [
    "#### Creating an Object"
   ]
  },
  {
   "cell_type": "code",
   "execution_count": 19,
   "id": "1836be76",
   "metadata": {},
   "outputs": [
    {
     "name": "stdout",
     "output_type": "stream",
     "text": [
      "White\n",
      "White\n"
     ]
    }
   ],
   "source": [
    "mycar = Vehical('RR',4)\n",
    "\n",
    "friendcar = Vehical('Nano',4)\n",
    "\n",
    "print(mycar.color)\n",
    "print(friendcar.color)"
   ]
  },
  {
   "cell_type": "code",
   "execution_count": null,
   "id": "25121b94",
   "metadata": {},
   "outputs": [],
   "source": []
  }
 ],
 "metadata": {
  "kernelspec": {
   "display_name": "Python 3 (ipykernel)",
   "language": "python",
   "name": "python3"
  },
  "language_info": {
   "codemirror_mode": {
    "name": "ipython",
    "version": 3
   },
   "file_extension": ".py",
   "mimetype": "text/x-python",
   "name": "python",
   "nbconvert_exporter": "python",
   "pygments_lexer": "ipython3",
   "version": "3.9.13"
  }
 },
 "nbformat": 4,
 "nbformat_minor": 5
}
