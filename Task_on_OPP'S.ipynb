{
 "cells": [
  {
   "cell_type": "markdown",
   "id": "38fffe15",
   "metadata": {},
   "source": [
    "#### 03-03-2023"
   ]
  },
  {
   "cell_type": "markdown",
   "id": "ca61a9a1",
   "metadata": {},
   "source": [
    "### Task : # 1 Create a class called \"Calculator\" that has methods for performing basic mathematical operations like addition, subtraction, multiplication, and division"
   ]
  },
  {
   "cell_type": "markdown",
   "id": "187765ef",
   "metadata": {},
   "source": [
    "#### Creating the class Calculator"
   ]
  },
  {
   "cell_type": "code",
   "execution_count": 1,
   "id": "b430bf6e",
   "metadata": {},
   "outputs": [],
   "source": [
    "class Calculator:\n",
    "    def add(self, num1, num2):\n",
    "        return num1 + num2\n",
    "    \n",
    "    def subtract(self, num1, num2):\n",
    "        return num1 - num2\n",
    "    \n",
    "    def multiply(self, num1, num2):\n",
    "        return num1 * num2\n",
    "    \n",
    "    def divide(self, num1, num2):\n",
    "        if num2 == 0:\n",
    "            raise ValueError(\"Cannot divide by zero\")\n",
    "        return num1 / num2\n"
   ]
  },
  {
   "cell_type": "markdown",
   "id": "3cfc97a9",
   "metadata": {},
   "source": [
    "##### Creating the Object for the class calculator"
   ]
  },
  {
   "cell_type": "code",
   "execution_count": 2,
   "id": "f18fe2e9",
   "metadata": {},
   "outputs": [
    {
     "name": "stdout",
     "output_type": "stream",
     "text": [
      "Enter operation (+, -, *, /): +\n",
      "Enter first number: -30\n",
      "Enter second number: 20\n",
      "Result: -10.0\n"
     ]
    }
   ],
   "source": [
    "# create a Calculator object\n",
    "calc = Calculator()\n",
    "\n",
    "# get user input for the operation to perform and the numbers to use\n",
    "operation = input(\"Enter operation (+, -, *, /): \")\n",
    "num1 = float(input(\"Enter first number: \"))\n",
    "num2 = float(input(\"Enter second number: \"))\n",
    "\n",
    "# perform the operation and print the result\n",
    "if operation == \"+\":\n",
    "    result = calc.add(num1, num2)\n",
    "elif operation == \"-\":\n",
    "    result = calc.subtract(num1, num2)\n",
    "elif operation == \"*\":\n",
    "    result = calc.multiply(num1, num2)\n",
    "elif operation == \"/\":\n",
    "    result = calc.divide(num1, num2)\n",
    "else:\n",
    "    print(\"Invalid operation\")\n",
    "    result = None\n",
    "\n",
    "if result is not None:\n",
    "    print(\"Result:\", result)\n"
   ]
  },
  {
   "cell_type": "markdown",
   "id": "ecf3aa5f",
   "metadata": {},
   "source": [
    "### Task :# 2 Create a class called \"Person\" that has properties like name, age, address, and phone number. Implement methods for updating the address and phone number"
   ]
  },
  {
   "cell_type": "code",
   "execution_count": 3,
   "id": "e951c233",
   "metadata": {},
   "outputs": [],
   "source": [
    "class Person:\n",
    "    def __init__(self, name, age, address, phone_number):\n",
    "        self.name = name\n",
    "        self.age = age\n",
    "        self.address = address\n",
    "        self.phone_number = phone_number\n",
    "    \n",
    "    def update_address(self, new_address):\n",
    "        self.address = new_address\n",
    "        \n",
    "    def update_phone_number(self, new_phone_number):\n",
    "        self.phone_number = new_phone_number\n"
   ]
  },
  {
   "cell_type": "code",
   "execution_count": null,
   "id": "c220b560",
   "metadata": {},
   "outputs": [],
   "source": [
    "# get user input for the person's information\n",
    "name = input(\"Enter name: \")\n",
    "age = int(input(\"Enter age: \"))\n",
    "address = input(\"Enter address: \")\n",
    "phone_number = int(input(\"Enter phone number: \"))\n",
    "\n",
    "print()\n",
    "\n",
    "# create a Person object with the user's input\n",
    "person = Person(name, age, address, phone_number)\n",
    "\n",
    "# print the person's information\n",
    "print(\"Person's information:\")\n",
    "print(\"Name:\", person.name)\n",
    "print(\"Age:\", person.age)\n",
    "print(\"Address:\", person.address)\n",
    "print(\"Phone number:\", person.phone_number)\n",
    "print()\n",
    "\n",
    "option = input(\"Enter (y)yes or (N)No for changes:\")\n",
    "print()\n",
    "\n",
    "if option == 'y':\n",
    "    # prompt the user to update the person's address and phone number\n",
    "    new_address = input(\"Enter new address: \")\n",
    "    person.update_address(new_address)\n",
    "    print()\n",
    "    \n",
    "    new_phone_number = int(input(\"Enter new phone number: \"))\n",
    "    person.update_phone_number(new_phone_number)\n",
    "    print()\n",
    "\n",
    "    # print the updated information\n",
    "    print(\"Updated information:\")\n",
    "    print()\n",
    "    \n",
    "    print(\"Name:\", person.name)\n",
    "    print(\"Age:\", person.age)\n",
    "    print(\"Address:\", person.address)\n",
    "    print(\"Phone number:\", person.phone_number)\n",
    "    print(\"Your Updated data is saved\")\n",
    "elif option == 'n':\n",
    "    print(\"Your Data is Saved\")\n",
    "    \n",
    "else:\n",
    "    print(\"Please Enter Yes(y) or No(N)\")\n"
   ]
  },
  {
   "cell_type": "code",
   "execution_count": null,
   "id": "f85125d8",
   "metadata": {},
   "outputs": [],
   "source": []
  }
 ],
 "metadata": {
  "kernelspec": {
   "display_name": "Python 3 (ipykernel)",
   "language": "python",
   "name": "python3"
  },
  "language_info": {
   "codemirror_mode": {
    "name": "ipython",
    "version": 3
   },
   "file_extension": ".py",
   "mimetype": "text/x-python",
   "name": "python",
   "nbconvert_exporter": "python",
   "pygments_lexer": "ipython3",
   "version": "3.9.13"
  }
 },
 "nbformat": 4,
 "nbformat_minor": 5
}
